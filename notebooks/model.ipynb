{
 "cells": [
  {
   "cell_type": "markdown",
   "id": "e828b998",
   "metadata": {},
   "source": [
    "# FAQ ChatBot model prototype notebook"
   ]
  },
  {
   "cell_type": "markdown",
   "id": "ae5f0b99",
   "metadata": {},
   "source": [
    "## 1. Project Overview\n",
    "\n",
    "The aim of this notebook is to use asymmetric semantic search to retrieve the top 3 closest answers from the ReactJS FAQ dataset based on a user's question input. Questions and answers are mapped to the same vector space using a pre-trained SBERT model. Given a new question, the closest 3 answers are retrieved using similarity search. The dataset will be split, with 90% used as reference corpus and 10% of questions reserved to evaluate how well the system retrieves relevant answers."
   ]
  },
  {
   "cell_type": "markdown",
   "id": "cafc14eb",
   "metadata": {},
   "source": [
    "## 2. Dataset\n",
    "\n",
    "The ReactJS FAQ dataset will be used, which consists approximately 26,300 question-answer pairs in a JSON format."
   ]
  },
  {
   "cell_type": "code",
   "execution_count": 25,
   "id": "82efb4d7",
   "metadata": {},
   "outputs": [],
   "source": [
    "import pandas as pd\n",
    "import numpy as np\n",
    "\n",
    "# Import display module from IPython to render pandas DataFrames in VS Code notebooks\n",
    "# from IPython.display import display # uncomment if needed to display multiple objects in one cell"
   ]
  },
  {
   "cell_type": "code",
   "execution_count": 26,
   "id": "9c71577f",
   "metadata": {},
   "outputs": [
    {
     "name": "stdout",
     "output_type": "stream",
     "text": [
      "First 5 records:\n"
     ]
    },
    {
     "data": {
      "text/html": [
       "<div>\n",
       "<style scoped>\n",
       "    .dataframe tbody tr th:only-of-type {\n",
       "        vertical-align: middle;\n",
       "    }\n",
       "\n",
       "    .dataframe tbody tr th {\n",
       "        vertical-align: top;\n",
       "    }\n",
       "\n",
       "    .dataframe thead th {\n",
       "        text-align: right;\n",
       "    }\n",
       "</style>\n",
       "<table border=\"1\" class=\"dataframe\">\n",
       "  <thead>\n",
       "    <tr style=\"text-align: right;\">\n",
       "      <th></th>\n",
       "      <th>question</th>\n",
       "      <th>answer</th>\n",
       "      <th>detailedanswer</th>\n",
       "      <th>detailed_answer</th>\n",
       "      <th>argument</th>\n",
       "    </tr>\n",
       "  </thead>\n",
       "  <tbody>\n",
       "    <tr>\n",
       "      <th>0</th>\n",
       "      <td>What is React?</td>\n",
       "      <td>React is an open-source JavaScript library for building user interfaces, primarily for single-page applications, using a component-based architecture.</td>\n",
       "      <td>NaN</td>\n",
       "      <td>NaN</td>\n",
       "      <td>NaN</td>\n",
       "    </tr>\n",
       "    <tr>\n",
       "      <th>1</th>\n",
       "      <td>What is a Date Picker in React?</td>\n",
       "      <td>A Date Picker in React is a UI component that allows users to select a date or date range from a calendar pop-up or dropdown.</td>\n",
       "      <td>NaN</td>\n",
       "      <td>NaN</td>\n",
       "      <td>NaN</td>\n",
       "    </tr>\n",
       "    <tr>\n",
       "      <th>2</th>\n",
       "      <td>what are feature of React?</td>\n",
       "      <td>1) Component-Based Architecture, 2) Virtual DOM, 3) Declarative UI, 4) JSX (JavaScript XML), 5) Unidirectional Data Flow, 6) Hooks API, 7) Ecosystem Support &amp; Routing, 8) Fast Rendering &amp; Performance, 9)Developer Tools, 10)Community and Open Source</td>\n",
       "      <td>NaN</td>\n",
       "      <td>NaN</td>\n",
       "      <td>NaN</td>\n",
       "    </tr>\n",
       "    <tr>\n",
       "      <th>3</th>\n",
       "      <td>Which libraries are commonly used for date pickers in React?</td>\n",
       "      <td>Popular libraries include react-datepicker, react-date-range, react-dates (Airbnb), MUI DatePicker, and Ant Design DatePicker.</td>\n",
       "      <td>NaN</td>\n",
       "      <td>NaN</td>\n",
       "      <td>NaN</td>\n",
       "    </tr>\n",
       "    <tr>\n",
       "      <th>4</th>\n",
       "      <td>How to install react-datepicker?</td>\n",
       "      <td>Run `npm install react-datepicker` and also install `date-fns` if needed.</td>\n",
       "      <td>NaN</td>\n",
       "      <td>NaN</td>\n",
       "      <td>NaN</td>\n",
       "    </tr>\n",
       "  </tbody>\n",
       "</table>\n",
       "</div>"
      ],
      "text/plain": [
       "                                                       question  \\\n",
       "0                                                What is React?   \n",
       "1                               What is a Date Picker in React?   \n",
       "2                                    what are feature of React?   \n",
       "3  Which libraries are commonly used for date pickers in React?   \n",
       "4                              How to install react-datepicker?   \n",
       "\n",
       "                                                                                                                                                                                                                                                      answer  \\\n",
       "0                                                                                                     React is an open-source JavaScript library for building user interfaces, primarily for single-page applications, using a component-based architecture.   \n",
       "1                                                                                                                              A Date Picker in React is a UI component that allows users to select a date or date range from a calendar pop-up or dropdown.   \n",
       "2  1) Component-Based Architecture, 2) Virtual DOM, 3) Declarative UI, 4) JSX (JavaScript XML), 5) Unidirectional Data Flow, 6) Hooks API, 7) Ecosystem Support & Routing, 8) Fast Rendering & Performance, 9)Developer Tools, 10)Community and Open Source    \n",
       "3                                                                                                                             Popular libraries include react-datepicker, react-date-range, react-dates (Airbnb), MUI DatePicker, and Ant Design DatePicker.   \n",
       "4                                                                                                                                                                                  Run `npm install react-datepicker` and also install `date-fns` if needed.   \n",
       "\n",
       "  detailedanswer detailed_answer argument  \n",
       "0            NaN             NaN      NaN  \n",
       "1            NaN             NaN      NaN  \n",
       "2            NaN             NaN      NaN  \n",
       "3            NaN             NaN      NaN  \n",
       "4            NaN             NaN      NaN  "
      ]
     },
     "execution_count": 26,
     "metadata": {},
     "output_type": "execute_result"
    }
   ],
   "source": [
    "# Load dataset from kaggle\n",
    "\n",
    "import kagglehub\n",
    "from kagglehub import KaggleDatasetAdapter\n",
    "\n",
    "# JSON file inside the ReactJS FAQ dataset folder\n",
    "file_path = \"React_dataset.json\"\n",
    "\n",
    "# Load the latest version\n",
    "df = kagglehub.dataset_load(\n",
    "  KaggleDatasetAdapter.PANDAS,\n",
    "  \"savanidhruv/reactjs-faq-dataset\",\n",
    "  file_path,\n",
    ")\n",
    "\n",
    "print(\"First 5 records:\")\n",
    "df.head()"
   ]
  },
  {
   "cell_type": "markdown",
   "id": "11c2d0ff",
   "metadata": {},
   "source": [
    "## 3. Preprocessing\n",
    "\n"
   ]
  },
  {
   "cell_type": "code",
   "execution_count": 28,
   "id": "b74fcbf4",
   "metadata": {},
   "outputs": [
    {
     "name": "stdout",
     "output_type": "stream",
     "text": [
      "First 5 Q and A pairs:\n"
     ]
    },
    {
     "data": {
      "text/html": [
       "<div>\n",
       "<style scoped>\n",
       "    .dataframe tbody tr th:only-of-type {\n",
       "        vertical-align: middle;\n",
       "    }\n",
       "\n",
       "    .dataframe tbody tr th {\n",
       "        vertical-align: top;\n",
       "    }\n",
       "\n",
       "    .dataframe thead th {\n",
       "        text-align: right;\n",
       "    }\n",
       "</style>\n",
       "<table border=\"1\" class=\"dataframe\">\n",
       "  <thead>\n",
       "    <tr style=\"text-align: right;\">\n",
       "      <th></th>\n",
       "      <th>question</th>\n",
       "      <th>answer</th>\n",
       "    </tr>\n",
       "  </thead>\n",
       "  <tbody>\n",
       "    <tr>\n",
       "      <th>0</th>\n",
       "      <td>What is the difference between Fluent UI React v8 and v9?</td>\n",
       "      <td>Fluent UI v8 uses the older Fabric architecture, and styling is handled with Sass/SCSS or inline styles. Fluent UI v9 is a complete redesign that uses modern patterns like hooks, CSS-in-JS, modular tokens, and Fluent Design System. v9 is more performance-focused, accessible, and ready for future Microsoft experiences. For new projects, v9 is highly recommended.</td>\n",
       "    </tr>\n",
       "    <tr>\n",
       "      <th>1</th>\n",
       "      <td>How do you use the Geolocation plugin in a React app?</td>\n",
       "      <td>Leveraging the Geolocation plugin in a React application allows you to retrieve the user's device location, specifically their latitude, longitude, and accuracy. The primary way to integrate this is by importing `Geolocation` from `@capacitor/geolocation`.\\n\\nTypically, you'll use React's `useState` hook to manage the retrieved position data (e.g., `latitude`, `longitude`, `accuracy`) and any error messages that might occur. The `useEffect` hook is an ideal place to initiate the location retrieval process when your component mounts. Inside `useEffect`, you'll define an asynchronous function, say `getCurrentPosition`, which will call `await Geolocation.getCurrentPosition()`. This method attempts to get the device's current location. It resolves with a `coordinates` object containing the `latitude`, `longitude`, and `accuracy` (in meters).\\n\\nUpon successful retrieval, you update your `position` state with these values. It's vital to wrap this call in a `try-catch` block to gracefully handle potential errors, such as location services being disabled, permissions not being granted by the user, or the device failing to acquire a fix. In the `catch` block, you can update an `error` state to display a user-friendly message, prompting them to check their device's location settings and app permissions.\\n\\nFor scenarios where you need continuous location updates (e.g., for navigation or tracking), the Geolocation plugin also offers `Geolocation.watchPosition()`. This method takes a callback function that is invoked every time the device's position changes. It returns a `watchId` that you can then use with `Geolocation.clearWatch({ id: watchId })` in the `useEffect` cleanup function to stop watching for updates when the component unmounts, preventing memory leaks.\\n\\nIn your component's render method, you would conditionally display the fetched latitude, longitude, and accuracy if `position` is available, or a loading message if it's still being fetched. Always remind users that location services must be enabled and permissions granted in their native app settings for the feature to function.</td>\n",
       "    </tr>\n",
       "    <tr>\n",
       "      <th>2</th>\n",
       "      <td>How do you use Radix UI with React Query?</td>\n",
       "      <td>Use React Query to fetch data that drives dynamic Radix UI components (like Dropdowns or Tabs):\\n\\nconst { data } = useQuery(['menuItems'], fetchMenuItems);\\n\\n&lt;DropdownMenu.Root&gt;\\n  {data.map(item =&gt; (\\n    &lt;DropdownMenu.Item key={item.id}&gt;{item.name}&lt;/DropdownMenu.Item&gt;\\n  ))}\\n&lt;/DropdownMenu.Root&gt;</td>\n",
       "    </tr>\n",
       "    <tr>\n",
       "      <th>3</th>\n",
       "      <td>How do you resolve User is not authorized to perform error?</td>\n",
       "      <td>This authorization error means the AWS IAM user or role configured for your Amplify project (or the authenticated user in your app) lacks the necessary permissions to perform a specific action on an AWS resource. To resolve: 1. **Check IAM Policy:** Go to the AWS IAM console and inspect the policy attached to the user or role being used by Amplify (or your authenticated user's Cognito Identity Pool roles). 2. **Add Permissions:** Add the specific permissions required for the failing action (e.g., `s3:PutObject`, `dynamodb:CreateTable`, `lambda:InvokeFunction`). 3. **Amplify CLI:** If it's a backend operation, ensure your Amplify CLI user has admin privileges. 4. **Cognito Identity Pool Roles:** For authenticated users, verify the IAM roles associated with your Cognito Identity Pool (authenticated and unauthenticated roles) have the correct permissions.</td>\n",
       "    </tr>\n",
       "    <tr>\n",
       "      <th>4</th>\n",
       "      <td>How do you test React apps with Tailwind CSS using Cypress?</td>\n",
       "      <td>Tailwind CSS doesn’t impact Cypress testing directly since it generates utility-based classes. However, avoid relying on class names like `bg-blue-500` for selectors—use `data-testid` or `data-cy` instead. You can use `cy.get('[data-cy=button]')` to assert behavior, visibility, or layout. Tailwind's dynamic styles can be visually validated using `cy.screenshot()` or visual diffing tools integrated with Cypress.</td>\n",
       "    </tr>\n",
       "  </tbody>\n",
       "</table>\n",
       "</div>"
      ],
      "text/plain": [
       "                                                      question  \\\n",
       "0    What is the difference between Fluent UI React v8 and v9?   \n",
       "1        How do you use the Geolocation plugin in a React app?   \n",
       "2                    How do you use Radix UI with React Query?   \n",
       "3  How do you resolve User is not authorized to perform error?   \n",
       "4  How do you test React apps with Tailwind CSS using Cypress?   \n",
       "\n",
       "                                                                                                                                                                                                                                                                                                                                                                                                                                                                                                                                                                                                                                                                                                                                                                                                                                                                                                                                                                                                                                                                                                                                                                                                                                                                                                                                                                                                                                                                                                                                                                                                                                                                                                                                                                                                                                                                                                                                                                                                                                                                                                                                                                                                    answer  \n",
       "0                                                                                                                                                                                                                                                                                                                                                                                                                                                                                                                                                                                                                                                                                                                                                                                                                                                                                                                                                                                                                                                                                                                                                                                                                                                                                                                                                                                                                                                                                                                                                                                                                                                                                                                                                                                                                              Fluent UI v8 uses the older Fabric architecture, and styling is handled with Sass/SCSS or inline styles. Fluent UI v9 is a complete redesign that uses modern patterns like hooks, CSS-in-JS, modular tokens, and Fluent Design System. v9 is more performance-focused, accessible, and ready for future Microsoft experiences. For new projects, v9 is highly recommended.  \n",
       "1  Leveraging the Geolocation plugin in a React application allows you to retrieve the user's device location, specifically their latitude, longitude, and accuracy. The primary way to integrate this is by importing `Geolocation` from `@capacitor/geolocation`.\\n\\nTypically, you'll use React's `useState` hook to manage the retrieved position data (e.g., `latitude`, `longitude`, `accuracy`) and any error messages that might occur. The `useEffect` hook is an ideal place to initiate the location retrieval process when your component mounts. Inside `useEffect`, you'll define an asynchronous function, say `getCurrentPosition`, which will call `await Geolocation.getCurrentPosition()`. This method attempts to get the device's current location. It resolves with a `coordinates` object containing the `latitude`, `longitude`, and `accuracy` (in meters).\\n\\nUpon successful retrieval, you update your `position` state with these values. It's vital to wrap this call in a `try-catch` block to gracefully handle potential errors, such as location services being disabled, permissions not being granted by the user, or the device failing to acquire a fix. In the `catch` block, you can update an `error` state to display a user-friendly message, prompting them to check their device's location settings and app permissions.\\n\\nFor scenarios where you need continuous location updates (e.g., for navigation or tracking), the Geolocation plugin also offers `Geolocation.watchPosition()`. This method takes a callback function that is invoked every time the device's position changes. It returns a `watchId` that you can then use with `Geolocation.clearWatch({ id: watchId })` in the `useEffect` cleanup function to stop watching for updates when the component unmounts, preventing memory leaks.\\n\\nIn your component's render method, you would conditionally display the fetched latitude, longitude, and accuracy if `position` is available, or a loading message if it's still being fetched. Always remind users that location services must be enabled and permissions granted in their native app settings for the feature to function.  \n",
       "2                                                                                                                                                                                                                                                                                                                                                                                                                                                                                                                                                                                                                                                                                                                                                                                                                                                                                                                                                                                                                                                                                                                                                                                                                                                                                                                                                                                                                                                                                                                                                                                                                                                                                                                                                                                                                                                                                            Use React Query to fetch data that drives dynamic Radix UI components (like Dropdowns or Tabs):\\n\\nconst { data } = useQuery(['menuItems'], fetchMenuItems);\\n\\n<DropdownMenu.Root>\\n  {data.map(item => (\\n    <DropdownMenu.Item key={item.id}>{item.name}</DropdownMenu.Item>\\n  ))}\\n</DropdownMenu.Root>  \n",
       "3                                                                                                                                                                                                                                                                                                                                                                                                                                                                                                                                                                                                                                                                                                                                                                                                                                                                                                                                                                                                                                                                                                                                                                                                                                                                                                         This authorization error means the AWS IAM user or role configured for your Amplify project (or the authenticated user in your app) lacks the necessary permissions to perform a specific action on an AWS resource. To resolve: 1. **Check IAM Policy:** Go to the AWS IAM console and inspect the policy attached to the user or role being used by Amplify (or your authenticated user's Cognito Identity Pool roles). 2. **Add Permissions:** Add the specific permissions required for the failing action (e.g., `s3:PutObject`, `dynamodb:CreateTable`, `lambda:InvokeFunction`). 3. **Amplify CLI:** If it's a backend operation, ensure your Amplify CLI user has admin privileges. 4. **Cognito Identity Pool Roles:** For authenticated users, verify the IAM roles associated with your Cognito Identity Pool (authenticated and unauthenticated roles) have the correct permissions.  \n",
       "4                                                                                                                                                                                                                                                                                                                                                                                                                                                                                                                                                                                                                                                                                                                                                                                                                                                                                                                                                                                                                                                                                                                                                                                                                                                                                                                                                                                                                                                                                                                                                                                                                                                                                                                                                                           Tailwind CSS doesn’t impact Cypress testing directly since it generates utility-based classes. However, avoid relying on class names like `bg-blue-500` for selectors—use `data-testid` or `data-cy` instead. You can use `cy.get('[data-cy=button]')` to assert behavior, visibility, or layout. Tailwind's dynamic styles can be visually validated using `cy.screenshot()` or visual diffing tools integrated with Cypress.  "
      ]
     },
     "execution_count": 28,
     "metadata": {},
     "output_type": "execute_result"
    }
   ],
   "source": [
    "# Remove other columns from the dataframe\n",
    "df = df[[\"question\", \"answer\"]]\n",
    "\n",
    "# Drop rows where either 'question' or 'answer' is null\n",
    "df = df.dropna(subset=[\"question\", \"answer\"]).reset_index(drop=True)\n",
    "\n",
    "# Display the full answers\n",
    "pd.set_option(\"display.max_colwidth\", None)\n",
    "\n",
    "# Shuffle dataset (so that similar Q and A pairs are not grouped)\n",
    "df = df.sample(frac=1, random_state=42).reset_index(drop=True)\n",
    "\n",
    "# Show the first 10 rows of the table\n",
    "print(\"First 5 Q and A pairs:\")\n",
    "df.head()"
   ]
  },
  {
   "cell_type": "markdown",
   "id": "62b8b205",
   "metadata": {},
   "source": [
    "Next we will separate the data into a 90/10 split: a training corpus and a testing set. Since we are using a pre-trained model, we are not training the model itself. Instead, we use the training corpus to generate embeddings, and then test accuracy by checking whether the model retrieves the correct answers for unseen questions in the test set."
   ]
  },
  {
   "cell_type": "code",
   "execution_count": 36,
   "id": "02159f9a",
   "metadata": {},
   "outputs": [
    {
     "name": "stdout",
     "output_type": "stream",
     "text": [
      "Train size: 23653, Test size: 2629\n"
     ]
    }
   ],
   "source": [
    "# Calculate the size of the training corpus (90% of the dataset)\n",
    "train_size = int(len(df) * 0.9)\n",
    "\n",
    "# Separate dataset into training corpus and testing set\n",
    "train_df = df.iloc[:train_size].reset_index(drop=True)\n",
    "test_df  = df.iloc[train_size:].reset_index(drop=True)\n",
    "\n",
    "# Separate questions and answers\n",
    "train_questions = train_df[\"question\"].tolist()\n",
    "train_answers   = train_df[\"answer\"].tolist()\n",
    "\n",
    "test_questions = test_df[\"question\"].tolist()\n",
    "test_answers   = test_df[\"answer\"].tolist()\n",
    "\n",
    "print(f\"Train size: {len(train_questions)}, Test size: {len(test_questions)}\")\n"
   ]
  },
  {
   "cell_type": "markdown",
   "id": "5698667d",
   "metadata": {},
   "source": [
    "## 4. Embedding Generation"
   ]
  },
  {
   "cell_type": "code",
   "execution_count": 4,
   "id": "474bc54e",
   "metadata": {},
   "outputs": [
    {
     "ename": "ModuleNotFoundError",
     "evalue": "No module named 'torch'",
     "output_type": "error",
     "traceback": [
      "\u001b[31m---------------------------------------------------------------------------\u001b[39m",
      "\u001b[31mModuleNotFoundError\u001b[39m                       Traceback (most recent call last)",
      "\u001b[36mCell\u001b[39m\u001b[36m \u001b[39m\u001b[32mIn[4]\u001b[39m\u001b[32m, line 1\u001b[39m\n\u001b[32m----> \u001b[39m\u001b[32m1\u001b[39m \u001b[38;5;28;01mimport\u001b[39;00m\u001b[38;5;250m \u001b[39m\u001b[34;01mtorch\u001b[39;00m\n\u001b[32m      3\u001b[39m \u001b[38;5;66;03m# from sentence_transformers import SentanceTransformer\u001b[39;00m\n",
      "\u001b[31mModuleNotFoundError\u001b[39m: No module named 'torch'"
     ]
    }
   ],
   "source": [
    "import torch\n",
    "\n",
    "# from sentence_transformers import SentanceTransformer"
   ]
  },
  {
   "cell_type": "markdown",
   "id": "ea549d75",
   "metadata": {},
   "source": [
    "## 5. Similarity Measure"
   ]
  },
  {
   "cell_type": "markdown",
   "id": "8697f4cf",
   "metadata": {},
   "source": [
    "## 6. Testing"
   ]
  },
  {
   "cell_type": "markdown",
   "id": "9376cca5",
   "metadata": {},
   "source": [
    "## 7. Evaluation"
   ]
  }
 ],
 "metadata": {
  "kernelspec": {
   "display_name": "venv",
   "language": "python",
   "name": "python3"
  },
  "language_info": {
   "codemirror_mode": {
    "name": "ipython",
    "version": 3
   },
   "file_extension": ".py",
   "mimetype": "text/x-python",
   "name": "python",
   "nbconvert_exporter": "python",
   "pygments_lexer": "ipython3",
   "version": "3.11.3"
  }
 },
 "nbformat": 4,
 "nbformat_minor": 5
}

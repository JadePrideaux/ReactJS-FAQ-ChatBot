{
 "cells": [
  {
   "cell_type": "markdown",
   "id": "e828b998",
   "metadata": {},
   "source": [
    "# FAQ ChatBot model prototype notebook"
   ]
  },
  {
   "cell_type": "markdown",
   "id": "ae5f0b99",
   "metadata": {},
   "source": [
    "## 1. Project Overview\n",
    "\n",
    "The aim of this notebook is to use asymmetric semantic search to retrieve the top 3 closest answers from the ReactJS FAQ dataset based on a user's question input. Questions and answers are mapped to the same vector space using a pre-trained SBERT model. Given a new question, the closest 3 answers are retrieved using similarity search. The dataset will be split, with 90% used as reference corpus and 10% of questions reserved to evaluate how well the system retrieves relevant answers.\n",
    "\n",
    "https://www.sbert.net/examples/sentence_transformer/applications/semantic-search/README.html"
   ]
  },
  {
   "cell_type": "markdown",
   "id": "cafc14eb",
   "metadata": {},
   "source": [
    "## 2. Dataset\n",
    "\n",
    "The ReactJS FAQ dataset will be used, which consists approximately 26,300 question-answer pairs in a JSON format.\n",
    "\n",
    "https://www.kaggle.com/datasets/savanidhruv/reactjs-faq-dataset"
   ]
  },
  {
   "cell_type": "code",
   "execution_count": 13,
   "id": "82efb4d7",
   "metadata": {},
   "outputs": [],
   "source": [
    "import pandas as pd\n",
    "\n",
    "# Import display module from IPython to render pandas DataFrames in VS Code notebooks\n",
    "# from IPython.display import display # uncomment if needed to display multiple objects in one cell"
   ]
  },
  {
   "cell_type": "code",
   "execution_count": 14,
   "id": "9c71577f",
   "metadata": {},
   "outputs": [
    {
     "name": "stdout",
     "output_type": "stream",
     "text": [
      "First 5 records:\n"
     ]
    },
    {
     "data": {
      "text/html": [
       "<div>\n",
       "<style scoped>\n",
       "    .dataframe tbody tr th:only-of-type {\n",
       "        vertical-align: middle;\n",
       "    }\n",
       "\n",
       "    .dataframe tbody tr th {\n",
       "        vertical-align: top;\n",
       "    }\n",
       "\n",
       "    .dataframe thead th {\n",
       "        text-align: right;\n",
       "    }\n",
       "</style>\n",
       "<table border=\"1\" class=\"dataframe\">\n",
       "  <thead>\n",
       "    <tr style=\"text-align: right;\">\n",
       "      <th></th>\n",
       "      <th>question</th>\n",
       "      <th>answer</th>\n",
       "      <th>detailedanswer</th>\n",
       "      <th>detailed_answer</th>\n",
       "      <th>argument</th>\n",
       "    </tr>\n",
       "  </thead>\n",
       "  <tbody>\n",
       "    <tr>\n",
       "      <th>0</th>\n",
       "      <td>What is React?</td>\n",
       "      <td>React is an open-source JavaScript library for building user interfaces, primarily for single-page applications, using a component-based architecture.</td>\n",
       "      <td>NaN</td>\n",
       "      <td>NaN</td>\n",
       "      <td>NaN</td>\n",
       "    </tr>\n",
       "    <tr>\n",
       "      <th>1</th>\n",
       "      <td>What is a Date Picker in React?</td>\n",
       "      <td>A Date Picker in React is a UI component that allows users to select a date or date range from a calendar pop-up or dropdown.</td>\n",
       "      <td>NaN</td>\n",
       "      <td>NaN</td>\n",
       "      <td>NaN</td>\n",
       "    </tr>\n",
       "    <tr>\n",
       "      <th>2</th>\n",
       "      <td>what are feature of React?</td>\n",
       "      <td>1) Component-Based Architecture, 2) Virtual DOM, 3) Declarative UI, 4) JSX (JavaScript XML), 5) Unidirectional Data Flow, 6) Hooks API, 7) Ecosystem Support &amp; Routing, 8) Fast Rendering &amp; Performance, 9)Developer Tools, 10)Community and Open Source</td>\n",
       "      <td>NaN</td>\n",
       "      <td>NaN</td>\n",
       "      <td>NaN</td>\n",
       "    </tr>\n",
       "    <tr>\n",
       "      <th>3</th>\n",
       "      <td>Which libraries are commonly used for date pickers in React?</td>\n",
       "      <td>Popular libraries include react-datepicker, react-date-range, react-dates (Airbnb), MUI DatePicker, and Ant Design DatePicker.</td>\n",
       "      <td>NaN</td>\n",
       "      <td>NaN</td>\n",
       "      <td>NaN</td>\n",
       "    </tr>\n",
       "    <tr>\n",
       "      <th>4</th>\n",
       "      <td>How to install react-datepicker?</td>\n",
       "      <td>Run `npm install react-datepicker` and also install `date-fns` if needed.</td>\n",
       "      <td>NaN</td>\n",
       "      <td>NaN</td>\n",
       "      <td>NaN</td>\n",
       "    </tr>\n",
       "  </tbody>\n",
       "</table>\n",
       "</div>"
      ],
      "text/plain": [
       "                                                       question  \\\n",
       "0                                                What is React?   \n",
       "1                               What is a Date Picker in React?   \n",
       "2                                    what are feature of React?   \n",
       "3  Which libraries are commonly used for date pickers in React?   \n",
       "4                              How to install react-datepicker?   \n",
       "\n",
       "                                                                                                                                                                                                                                                      answer  \\\n",
       "0                                                                                                     React is an open-source JavaScript library for building user interfaces, primarily for single-page applications, using a component-based architecture.   \n",
       "1                                                                                                                              A Date Picker in React is a UI component that allows users to select a date or date range from a calendar pop-up or dropdown.   \n",
       "2  1) Component-Based Architecture, 2) Virtual DOM, 3) Declarative UI, 4) JSX (JavaScript XML), 5) Unidirectional Data Flow, 6) Hooks API, 7) Ecosystem Support & Routing, 8) Fast Rendering & Performance, 9)Developer Tools, 10)Community and Open Source    \n",
       "3                                                                                                                             Popular libraries include react-datepicker, react-date-range, react-dates (Airbnb), MUI DatePicker, and Ant Design DatePicker.   \n",
       "4                                                                                                                                                                                  Run `npm install react-datepicker` and also install `date-fns` if needed.   \n",
       "\n",
       "  detailedanswer detailed_answer argument  \n",
       "0            NaN             NaN      NaN  \n",
       "1            NaN             NaN      NaN  \n",
       "2            NaN             NaN      NaN  \n",
       "3            NaN             NaN      NaN  \n",
       "4            NaN             NaN      NaN  "
      ]
     },
     "execution_count": 14,
     "metadata": {},
     "output_type": "execute_result"
    }
   ],
   "source": [
    "# Load dataset from kaggle\n",
    "\n",
    "import kagglehub\n",
    "from kagglehub import KaggleDatasetAdapter\n",
    "\n",
    "# JSON file inside the ReactJS FAQ dataset folder\n",
    "file_path = \"React_dataset.json\"\n",
    "\n",
    "# Load the latest version\n",
    "df = kagglehub.dataset_load(\n",
    "  KaggleDatasetAdapter.PANDAS,\n",
    "  \"savanidhruv/reactjs-faq-dataset\",\n",
    "  file_path,\n",
    ")\n",
    "\n",
    "print(\"First 5 records:\")\n",
    "df.head()"
   ]
  },
  {
   "cell_type": "markdown",
   "id": "11c2d0ff",
   "metadata": {},
   "source": [
    "## 3. Preprocessing\n",
    "\n"
   ]
  },
  {
   "cell_type": "code",
   "execution_count": 15,
   "id": "b74fcbf4",
   "metadata": {},
   "outputs": [
    {
     "name": "stdout",
     "output_type": "stream",
     "text": [
      "First 5 Q and A pairs:\n"
     ]
    },
    {
     "data": {
      "text/html": [
       "<div>\n",
       "<style scoped>\n",
       "    .dataframe tbody tr th:only-of-type {\n",
       "        vertical-align: middle;\n",
       "    }\n",
       "\n",
       "    .dataframe tbody tr th {\n",
       "        vertical-align: top;\n",
       "    }\n",
       "\n",
       "    .dataframe thead th {\n",
       "        text-align: right;\n",
       "    }\n",
       "</style>\n",
       "<table border=\"1\" class=\"dataframe\">\n",
       "  <thead>\n",
       "    <tr style=\"text-align: right;\">\n",
       "      <th></th>\n",
       "      <th>question</th>\n",
       "      <th>answer</th>\n",
       "    </tr>\n",
       "  </thead>\n",
       "  <tbody>\n",
       "    <tr>\n",
       "      <th>0</th>\n",
       "      <td>How do you debug “No response from server” in urql?</td>\n",
       "      <td>\"No response from server\" in urql typically means the HTTP request was sent but no response was received within a reasonable timeframe, or the connection was abruptly closed. This often points to a network issue, a server that's down, or a firewall blocking the connection. To debug:\\n1.  **Check network connection:** Ensure your device has internet access.\\n2.  **Verify server status:** Is your GraphQL server running and accessible?\\n3.  **Correct endpoint URL:** Double-check the `url` in your `urql` client configuration.\\n4.  **Firewall/Proxy:** See if a firewall or proxy is blocking the request.\\n5.  **Browser DevTools:** Open the Network tab in your browser's developer tools. Look for the pending request; it might eventually show a timeout or connection refused error.\\n6.  **Server Logs:** Check your GraphQL server logs for any incoming request attempts or errors.</td>\n",
       "    </tr>\n",
       "    <tr>\n",
       "      <th>1</th>\n",
       "      <td>How to enforce token usage via linting rules?</td>\n",
       "      <td>To enforce token usage, create custom Stylelint rules or extend your ESLint config with plugins that analyze your .css.ts files. These rules should check whether hardcoded values (like colors or spacing) match predefined token values. You can use Abstract Syntax Tree (AST) parsing with ESLint or integrate with tools like `stylelint-declaration-strict-value` to disallow raw values and ensure tokens are consistently used.</td>\n",
       "    </tr>\n",
       "    <tr>\n",
       "      <th>2</th>\n",
       "      <td>How to integrate store with Three.js for UI sync?</td>\n",
       "      <td>1. Three.js render loop is external, so sync Zustand state manually:\\n```ts\\nstore.subscribe(state =&gt; {\\n  mesh.position.x = state.x;\\n});\\n```\\n2. Use `useFrame()` in `@react-three/fiber` to pull values from store:\\n```ts\\nuseFrame(() =&gt; {\\n  meshRef.current.position.x = useStore.getState().x;\\n});\\n```\\n3. Avoid using `useStore()` inside `useFrame()` directly for performance.</td>\n",
       "    </tr>\n",
       "    <tr>\n",
       "      <th>3</th>\n",
       "      <td>How do you test WebSockets in Playwright?</td>\n",
       "      <td>Intercept and monitor WebSocket messages using the `page.on('websocket')` event or test the UI reflecting live updates:\\n\\n```ts\\nawait page.goto('/chat');\\nawait expect(page.locator('text=User joined')).toBeVisible();\\n```</td>\n",
       "    </tr>\n",
       "    <tr>\n",
       "      <th>4</th>\n",
       "      <td>How to test styling logic using Jest + React Testing Library?</td>\n",
       "      <td>You can use `@testing-library/react` along with Stitches' `toString()` method to test styling. Also, test for class names or inline styles:\\n\\n```tsx\\nimport { render } from '@testing-library/react';\\nimport { styled } from '@stitches/react';\\n\\nconst Button = styled('button', {\\n  backgroundColor: 'red',\\n});\\n\\ntest('Button renders with correct styles', () =&gt; {\\n  const { getByRole } = render(&lt;Button&gt;Click&lt;/Button&gt;);\\n  const button = getByRole('button');\\n  expect(button).toHaveStyle('background-color: red');\\n});\\n```\\nStitches generates scoped class names, so testing for presence of styles via inline snapshots or `jest-styled` libraries can be useful.</td>\n",
       "    </tr>\n",
       "  </tbody>\n",
       "</table>\n",
       "</div>"
      ],
      "text/plain": [
       "                                                        question  \\\n",
       "0            How do you debug “No response from server” in urql?   \n",
       "1                  How to enforce token usage via linting rules?   \n",
       "2              How to integrate store with Three.js for UI sync?   \n",
       "3                      How do you test WebSockets in Playwright?   \n",
       "4  How to test styling logic using Jest + React Testing Library?   \n",
       "\n",
       "                                                                                                                                                                                                                                                                                                                                                                                                                                                                                                                                                                                                                                                                                                                                                                                                                                                                                                            answer  \n",
       "0  \"No response from server\" in urql typically means the HTTP request was sent but no response was received within a reasonable timeframe, or the connection was abruptly closed. This often points to a network issue, a server that's down, or a firewall blocking the connection. To debug:\\n1.  **Check network connection:** Ensure your device has internet access.\\n2.  **Verify server status:** Is your GraphQL server running and accessible?\\n3.  **Correct endpoint URL:** Double-check the `url` in your `urql` client configuration.\\n4.  **Firewall/Proxy:** See if a firewall or proxy is blocking the request.\\n5.  **Browser DevTools:** Open the Network tab in your browser's developer tools. Look for the pending request; it might eventually show a timeout or connection refused error.\\n6.  **Server Logs:** Check your GraphQL server logs for any incoming request attempts or errors.  \n",
       "1                                                                                                                                                                                                                                                                                                                                                                                                                                                                          To enforce token usage, create custom Stylelint rules or extend your ESLint config with plugins that analyze your .css.ts files. These rules should check whether hardcoded values (like colors or spacing) match predefined token values. You can use Abstract Syntax Tree (AST) parsing with ESLint or integrate with tools like `stylelint-declaration-strict-value` to disallow raw values and ensure tokens are consistently used.  \n",
       "2                                                                                                                                                                                                                                                                                                                                                                                                                                                                                                                     1. Three.js render loop is external, so sync Zustand state manually:\\n```ts\\nstore.subscribe(state => {\\n  mesh.position.x = state.x;\\n});\\n```\\n2. Use `useFrame()` in `@react-three/fiber` to pull values from store:\\n```ts\\nuseFrame(() => {\\n  meshRef.current.position.x = useStore.getState().x;\\n});\\n```\\n3. Avoid using `useStore()` inside `useFrame()` directly for performance.  \n",
       "3                                                                                                                                                                                                                                                                                                                                                                                                                                                                                                                                                                                                                                                                                  Intercept and monitor WebSocket messages using the `page.on('websocket')` event or test the UI reflecting live updates:\\n\\n```ts\\nawait page.goto('/chat');\\nawait expect(page.locator('text=User joined')).toBeVisible();\\n```  \n",
       "4                                                                                                                                                                                                                         You can use `@testing-library/react` along with Stitches' `toString()` method to test styling. Also, test for class names or inline styles:\\n\\n```tsx\\nimport { render } from '@testing-library/react';\\nimport { styled } from '@stitches/react';\\n\\nconst Button = styled('button', {\\n  backgroundColor: 'red',\\n});\\n\\ntest('Button renders with correct styles', () => {\\n  const { getByRole } = render(<Button>Click</Button>);\\n  const button = getByRole('button');\\n  expect(button).toHaveStyle('background-color: red');\\n});\\n```\\nStitches generates scoped class names, so testing for presence of styles via inline snapshots or `jest-styled` libraries can be useful.  "
      ]
     },
     "execution_count": 15,
     "metadata": {},
     "output_type": "execute_result"
    }
   ],
   "source": [
    "# Remove other columns from the dataframe\n",
    "df = df[[\"question\", \"answer\"]]\n",
    "\n",
    "# Drop rows where either 'question' or 'answer' is null\n",
    "df = df.dropna(subset=[\"question\", \"answer\"]).reset_index(drop=True)\n",
    "\n",
    "# Display the full answers\n",
    "pd.set_option(\"display.max_colwidth\", None)\n",
    "\n",
    "# Shuffle dataset (so that similar Q and A pairs are not grouped)\n",
    "df = df.sample(frac=1, random_state=42).reset_index(drop=True)\n",
    "\n",
    "# Show the first 10 rows of the table\n",
    "print(\"First 5 Q and A pairs:\")\n",
    "df.head()"
   ]
  },
  {
   "cell_type": "markdown",
   "id": "62b8b205",
   "metadata": {},
   "source": [
    "Next we will separate the data into a 90/10 split: a training corpus and a testing set. Since we are using a pre-trained model, we are not training the model itself. Instead, we use the training corpus to generate embeddings, and then test accuracy by checking whether the model retrieves the correct answers for unseen questions in the test set."
   ]
  },
  {
   "cell_type": "code",
   "execution_count": 16,
   "id": "02159f9a",
   "metadata": {},
   "outputs": [
    {
     "name": "stdout",
     "output_type": "stream",
     "text": [
      "Train size: 23653, Test size: 2629\n"
     ]
    }
   ],
   "source": [
    "# Calculate the size of the training corpus (90% of the dataset)\n",
    "train_size = int(len(df) * 0.9)\n",
    "\n",
    "# Separate dataset into training corpus and testing set\n",
    "train_df = df.iloc[:train_size].reset_index(drop=True)\n",
    "test_df  = df.iloc[train_size:].reset_index(drop=True)\n",
    "\n",
    "# Separate questions and answers\n",
    "train_questions = train_df[\"question\"].tolist()\n",
    "train_answers   = train_df[\"answer\"].tolist()\n",
    "\n",
    "test_questions = test_df[\"question\"].tolist()\n",
    "test_answers   = test_df[\"answer\"].tolist()\n",
    "\n",
    "print(f\"Train size: {len(train_questions)}, Test size: {len(test_questions)}\")\n"
   ]
  },
  {
   "cell_type": "markdown",
   "id": "5698667d",
   "metadata": {},
   "source": [
    "## 4. Embedding Generation"
   ]
  },
  {
   "cell_type": "code",
   "execution_count": 12,
   "id": "474bc54e",
   "metadata": {},
   "outputs": [],
   "source": [
    "import torch\n",
    "\n",
    "from sentence_transformers import SentenceTransformer\n",
    "\n",
    "embedder = SentenceTransformer(\"all-MiniLM-L6-v2\")\n",
    "\n",
    "# Training embeddings\n",
    "train_question_embeddings = embedder.encode(train_questions, convert_to_tensor=True)\n",
    "train_answer_embeddings   = embedder.encode(train_answers, convert_to_tensor=True)\n",
    "\n",
    "# Test embeddings\n",
    "test_question_embeddings  = embedder.encode(test_questions, convert_to_tensor=True)\n",
    "test_answer_embeddings    = embedder.encode(test_answers, convert_to_tensor=True)\n"
   ]
  },
  {
   "cell_type": "markdown",
   "id": "ea549d75",
   "metadata": {},
   "source": [
    "## 5. Similarity Check\n",
    "\n",
    "First we will check the cosine simularity between question and answer pairs"
   ]
  },
  {
   "cell_type": "code",
   "execution_count": 21,
   "id": "2729b62c",
   "metadata": {},
   "outputs": [
    {
     "data": {
      "text/html": [
       "<div>\n",
       "<style scoped>\n",
       "    .dataframe tbody tr th:only-of-type {\n",
       "        vertical-align: middle;\n",
       "    }\n",
       "\n",
       "    .dataframe tbody tr th {\n",
       "        vertical-align: top;\n",
       "    }\n",
       "\n",
       "    .dataframe thead th {\n",
       "        text-align: right;\n",
       "    }\n",
       "</style>\n",
       "<table border=\"1\" class=\"dataframe\">\n",
       "  <thead>\n",
       "    <tr style=\"text-align: right;\">\n",
       "      <th></th>\n",
       "      <th>Question</th>\n",
       "      <th>Answer</th>\n",
       "      <th>Similarity</th>\n",
       "    </tr>\n",
       "  </thead>\n",
       "  <tbody>\n",
       "    <tr>\n",
       "      <th>0</th>\n",
       "      <td>How do you handle browser compatibility issues?</td>\n",
       "      <td>React Window supports modern browsers, but for older browsers (like IE11), issues may arise due to lack of support for features like `ResizeObserver`. Use polyfills if needed and test against your browser support matrix. Also avoid using unsupported CSS features in your list styles.</td>\n",
       "      <td>0.332162</td>\n",
       "    </tr>\n",
       "    <tr>\n",
       "      <th>1</th>\n",
       "      <td>How do you import a component using React.lazy?</td>\n",
       "      <td>You import a component using `React.lazy` by assigning the result of `React.lazy()` to a variable. The function passed to `React.lazy` must use the dynamic `import()` syntax and return a Promise that resolves to the component.\\n\\n```jsx\\nimport React, { lazy } from 'react';\\n\\nconst MyLazyComponent = lazy(() =&gt; import('./MyComponent'));\\n// Then, use it inside a Suspense boundary:\\n// function App() {\\n//   return (\\n//     &lt;Suspense fallback={&lt;div&gt;Loading...&lt;/div&gt;}&gt;\\n//       &lt;MyLazyComponent /&gt;\\n//     &lt;/Suspense&gt;\\n//   );\\n// }\\n```\\nIt's crucial that `MyComponent` has a `default export`.</td>\n",
       "      <td>0.691587</td>\n",
       "    </tr>\n",
       "    <tr>\n",
       "      <th>2</th>\n",
       "      <td>How do you resolve \"React.memo not working with nested components\"?</td>\n",
       "      <td>When `React.memo` appears not to work with nested components, it's almost always a misunderstanding of how memoization propagates (or doesn't propagate) down the component tree. `React.memo` only optimizes the component it wraps based on *its direct props*. It doesn't magically memoize its children or components rendered inside it, unless those children are *also* explicitly wrapped with `React.memo`.\\n\\nThe common issues and resolutions are:\\n\\n1.  **Unmemoized Children:** If a memoized parent re-renders (because *its* props changed), and it renders an *unmemoized* child, that child will re-render, even if the child's own props haven't changed. **Resolution:** If the nested child is also expensive and receives stable props, *also* wrap the nested child with `React.memo`.\\n2.  **Unstable Props to Nested Memoized Children:** If a memoized parent passes new object, array, or function references as props to a memoized nested child on every render, the nested child will re-render. **Resolution:** Use `React.useCallback` for functions and `React.useMemo` for objects/arrays in the parent component to stabilize props passed down to memoized children.\\n3.  **Children as `props.children`:** If a parent receives `props.children` and passes them directly to a memoized wrapper, the `children` prop itself can often be unstable (as JSX elements are objects). If `children` changes (e.g., new JSX is rendered), the memoized wrapper might re-render. **Resolution:** If the `children` themselves are static or memoized, `React.memo` can still work. If `children` are dynamic, the memoized wrapper might not be as effective for that specific prop.\\n\\nExample:\\n\\n```jsx\\nimport React, { useState, useCallback, useMemo } from 'react';\\n\\n// Level 3: Deeply nested and memoized component\\nconst GrandchildComponent = React.memo(({ value }) =&gt; {\\n  console.log('Rendering GrandchildComponent:', value);\\n  return &lt;p&gt;Grandchild: {value}&lt;/p&gt;;\\n});\\n\\n// Level 2: Nested component, also memoized\\nconst ChildComponent = React.memo(({ count, onAction, data }) =&gt; {\\n  console.log('Rendering ChildComponent:', count);\\n  return (\\n    &lt;div style={{ border: '1px dotted green', padding: '10px', margin: '5px' }}&gt;\\n      &lt;h4&gt;Child: {count}&lt;/h4&gt;\\n      &lt;button onClick={onAction}&gt;Child Action&lt;/button&gt;\\n      &lt;GrandchildComponent value={data.nestedValue} /&gt;\\n    &lt;/div&gt;\\n  );\\n});\\n\\n// Level 1: Parent component\\nexport default function App() {\\n  const [appCount, setAppCount] = useState(0);\\n\\n  // Memoize the callback passed to ChildComponent\\n  const handleChildAction = useCallback(() =&gt; {\\n    console.log('Child action triggered!');\\n  }, []);\\n\\n  // Memoize the data object passed to ChildComponent (and then GrandchildComponent)\\n  const memoizedData = useMemo(() =&gt; ({ nestedValue: 100 }), []);\\n\\n  return (\\n    &lt;div style={{ border: '1px solid red', padding: '20px' }}&gt;\\n      &lt;h1&gt;App Count: {appCount}&lt;/h1&gt;\\n      &lt;button onClick={() =&gt; setAppCount(appCount + 1)}&gt;Increment App Count&lt;/button&gt;\\n      \\n      {/* ChildComponent will only re-render if appCount changes, or if handleChildAction/memoizedData change */}\\n      &lt;ChildComponent \\n        count={appCount} \\n        onAction={handleChildAction} \\n        data={memoizedData} \\n      /&gt;\\n\\n      {/* If you pass an unstable object, ChildComponent AND GrandchildComponent will re-render unnecessarily */}\\n      {/* &lt;ChildComponent \\n        count={appCount} \\n        onAction={handleChildAction} \\n        data={{ nestedValue: 200 }} \\n      /&gt; */}\\n    &lt;/div&gt;\\n  );\\n}\\n```\\n`React.memo` is local optimization. For effective memoization of nested components, ensure each component in the hierarchy is memoized if appropriate, and that stable props are passed down the chain using `useCallback` and `useMemo`.</td>\n",
       "      <td>0.772952</td>\n",
       "    </tr>\n",
       "    <tr>\n",
       "      <th>3</th>\n",
       "      <td>How to debug hydration mismatch warnings?</td>\n",
       "      <td>Hydration mismatch occurs when server-rendered HTML doesn't match client-rendered HTML.\\n1. Use `console.log()` to compare SSR and client output.\\n2. Avoid accessing `window`, `document`, or random values (like `Math.random()`) during render.\\n3. Use `useEffect()` to defer client-specific code.\\n4. Consistently render components and avoid conditional rendering that differs between client and server.\\n5. Wrap dynamic parts like dates in `useEffect()` or SSR them with consistent values.</td>\n",
       "      <td>0.570225</td>\n",
       "    </tr>\n",
       "    <tr>\n",
       "      <th>4</th>\n",
       "      <td>How do you fetch data for routed components in Relay?</td>\n",
       "      <td>Use `useQueryLoader` in the parent component and pass the loaded data to the routed child. Or, place a `useLazyLoadQuery` directly in the routed component, wrapped in a `&lt;Suspense&gt;` boundary. For server-rendered apps, preload the query in the router and hydrate it into the Relay environment. This ensures fast, coordinated routing and data rendering.</td>\n",
       "      <td>0.679267</td>\n",
       "    </tr>\n",
       "  </tbody>\n",
       "</table>\n",
       "</div>"
      ],
      "text/plain": [
       "                                                              Question  \\\n",
       "0                      How do you handle browser compatibility issues?   \n",
       "1                      How do you import a component using React.lazy?   \n",
       "2  How do you resolve \"React.memo not working with nested components\"?   \n",
       "3                            How to debug hydration mismatch warnings?   \n",
       "4                How do you fetch data for routed components in Relay?   \n",
       "\n",
       "                                                                                                                                                                                                                                                                                                                                                                                                                                                                                                                                                                                                                                                                                                                                                                                                                                                                                                                                                                                                                                                                                                                                                                                                                                                                                                                                                                                                                                                                                                                                                                                                                                                                                                                                                                                                                                                                                                                                                                                                                                                                                                                                                                                                                                                                                                                                                                                                                                                                                                                                                                                                                                                                                                                                                                                                                                                                                                                                                                                                                                                                                                                                                                                                                                                                                                                                                                                                                                                                                                                                                                                                                                                                                                                                                                                                                                                                                                                                Answer  \\\n",
       "0                                                                                                                                                                                                                                                                                                                                                                                                                                                                                                                                                                                                                                                                                                                                                                                                                                                                                                                                                                                                                                                                                                                                                                                                                                                                                                                                                                                                                                                                                                                                                                                                                                                                                                                                                                                                                                                                                                                                                                                                                                                                                                                                                                                                                                                                                                                                                                                                                                                                                                                                                                                                                                                                                                                                                                                                                                                                                                                                                                                                                                                                                                                                                                                                                                                                                                                                                                                                                                                                                                                                                                                                                                          React Window supports modern browsers, but for older browsers (like IE11), issues may arise due to lack of support for features like `ResizeObserver`. Use polyfills if needed and test against your browser support matrix. Also avoid using unsupported CSS features in your list styles.   \n",
       "1                                                                                                                                                                                                                                                                                                                                                                                                                                                                                                                                                                                                                                                                                                                                                                                                                                                                                                                                                                                                                                                                                                                                                                                                                                                                                                                                                                                                                                                                                                                                                                                                                                                                                                                                                                                                                                                                                                                                                                                                                                                                                                                                                                                                                                                                                                                                                                                                                                                                                                                                                                                                                                                                                                                                                                                                                                                                                                                                                                                                                                                                                                                                                                                                                                                                                                               You import a component using `React.lazy` by assigning the result of `React.lazy()` to a variable. The function passed to `React.lazy` must use the dynamic `import()` syntax and return a Promise that resolves to the component.\\n\\n```jsx\\nimport React, { lazy } from 'react';\\n\\nconst MyLazyComponent = lazy(() => import('./MyComponent'));\\n// Then, use it inside a Suspense boundary:\\n// function App() {\\n//   return (\\n//     <Suspense fallback={<div>Loading...</div>}>\\n//       <MyLazyComponent />\\n//     </Suspense>\\n//   );\\n// }\\n```\\nIt's crucial that `MyComponent` has a `default export`.   \n",
       "2  When `React.memo` appears not to work with nested components, it's almost always a misunderstanding of how memoization propagates (or doesn't propagate) down the component tree. `React.memo` only optimizes the component it wraps based on *its direct props*. It doesn't magically memoize its children or components rendered inside it, unless those children are *also* explicitly wrapped with `React.memo`.\\n\\nThe common issues and resolutions are:\\n\\n1.  **Unmemoized Children:** If a memoized parent re-renders (because *its* props changed), and it renders an *unmemoized* child, that child will re-render, even if the child's own props haven't changed. **Resolution:** If the nested child is also expensive and receives stable props, *also* wrap the nested child with `React.memo`.\\n2.  **Unstable Props to Nested Memoized Children:** If a memoized parent passes new object, array, or function references as props to a memoized nested child on every render, the nested child will re-render. **Resolution:** Use `React.useCallback` for functions and `React.useMemo` for objects/arrays in the parent component to stabilize props passed down to memoized children.\\n3.  **Children as `props.children`:** If a parent receives `props.children` and passes them directly to a memoized wrapper, the `children` prop itself can often be unstable (as JSX elements are objects). If `children` changes (e.g., new JSX is rendered), the memoized wrapper might re-render. **Resolution:** If the `children` themselves are static or memoized, `React.memo` can still work. If `children` are dynamic, the memoized wrapper might not be as effective for that specific prop.\\n\\nExample:\\n\\n```jsx\\nimport React, { useState, useCallback, useMemo } from 'react';\\n\\n// Level 3: Deeply nested and memoized component\\nconst GrandchildComponent = React.memo(({ value }) => {\\n  console.log('Rendering GrandchildComponent:', value);\\n  return <p>Grandchild: {value}</p>;\\n});\\n\\n// Level 2: Nested component, also memoized\\nconst ChildComponent = React.memo(({ count, onAction, data }) => {\\n  console.log('Rendering ChildComponent:', count);\\n  return (\\n    <div style={{ border: '1px dotted green', padding: '10px', margin: '5px' }}>\\n      <h4>Child: {count}</h4>\\n      <button onClick={onAction}>Child Action</button>\\n      <GrandchildComponent value={data.nestedValue} />\\n    </div>\\n  );\\n});\\n\\n// Level 1: Parent component\\nexport default function App() {\\n  const [appCount, setAppCount] = useState(0);\\n\\n  // Memoize the callback passed to ChildComponent\\n  const handleChildAction = useCallback(() => {\\n    console.log('Child action triggered!');\\n  }, []);\\n\\n  // Memoize the data object passed to ChildComponent (and then GrandchildComponent)\\n  const memoizedData = useMemo(() => ({ nestedValue: 100 }), []);\\n\\n  return (\\n    <div style={{ border: '1px solid red', padding: '20px' }}>\\n      <h1>App Count: {appCount}</h1>\\n      <button onClick={() => setAppCount(appCount + 1)}>Increment App Count</button>\\n      \\n      {/* ChildComponent will only re-render if appCount changes, or if handleChildAction/memoizedData change */}\\n      <ChildComponent \\n        count={appCount} \\n        onAction={handleChildAction} \\n        data={memoizedData} \\n      />\\n\\n      {/* If you pass an unstable object, ChildComponent AND GrandchildComponent will re-render unnecessarily */}\\n      {/* <ChildComponent \\n        count={appCount} \\n        onAction={handleChildAction} \\n        data={{ nestedValue: 200 }} \\n      /> */}\\n    </div>\\n  );\\n}\\n```\\n`React.memo` is local optimization. For effective memoization of nested components, ensure each component in the hierarchy is memoized if appropriate, and that stable props are passed down the chain using `useCallback` and `useMemo`.   \n",
       "3                                                                                                                                                                                                                                                                                                                                                                                                                                                                                                                                                                                                                                                                                                                                                                                                                                                                                                                                                                                                                                                                                                                                                                                                                                                                                                                                                                                                                                                                                                                                                                                                                                                                                                                                                                                                                                                                                                                                                                                                                                                                                                                                                                                                                                                                                                                                                                                                                                                                                                                                                                                                                                                                                                                                                                                                                                                                                                                                                                                                                                                                                                                                                                                                                                                                                                                                                                                                                            Hydration mismatch occurs when server-rendered HTML doesn't match client-rendered HTML.\\n1. Use `console.log()` to compare SSR and client output.\\n2. Avoid accessing `window`, `document`, or random values (like `Math.random()`) during render.\\n3. Use `useEffect()` to defer client-specific code.\\n4. Consistently render components and avoid conditional rendering that differs between client and server.\\n5. Wrap dynamic parts like dates in `useEffect()` or SSR them with consistent values.   \n",
       "4                                                                                                                                                                                                                                                                                                                                                                                                                                                                                                                                                                                                                                                                                                                                                                                                                                                                                                                                                                                                                                                                                                                                                                                                                                                                                                                                                                                                                                                                                                                                                                                                                                                                                                                                                                                                                                                                                                                                                                                                                                                                                                                                                                                                                                                                                                                                                                                                                                                                                                                                                                                                                                                                                                                                                                                                                                                                                                                                                                                                                                                                                                                                                                                                                                                                                                                                                                                                                                                                                                                                                                      Use `useQueryLoader` in the parent component and pass the loaded data to the routed child. Or, place a `useLazyLoadQuery` directly in the routed component, wrapped in a `<Suspense>` boundary. For server-rendered apps, preload the query in the router and hydrate it into the Relay environment. This ensures fast, coordinated routing and data rendering.   \n",
       "\n",
       "   Similarity  \n",
       "0    0.332162  \n",
       "1    0.691587  \n",
       "2    0.772952  \n",
       "3    0.570225  \n",
       "4    0.679267  "
      ]
     },
     "execution_count": 21,
     "metadata": {},
     "output_type": "execute_result"
    }
   ],
   "source": [
    "import random\n",
    "\n",
    "sample_size = 5  # number of pairs to check\n",
    "sample_indices = random.sample(range(len(train_questions)), sample_size)\n",
    "\n",
    "results = []\n",
    "for i in sample_indices:\n",
    "    similarity = embedder.similarity(train_question_embeddings[i], train_answer_embeddings[i])\n",
    "    results.append({\n",
    "        \"Question\": train_questions[i],\n",
    "        \"Answer\": train_answers[i],\n",
    "        \"Similarity\": float(similarity)\n",
    "    })\n",
    "\n",
    "# Create DataFrame\n",
    "df = pd.DataFrame(results)\n",
    "\n",
    "# Display the table\n",
    "df\n"
   ]
  },
  {
   "cell_type": "markdown",
   "id": "8697f4cf",
   "metadata": {},
   "source": [
    "## 6. Testing\n",
    "\n",
    "Next we need to test how well new questions pair with existing answers in the training corpus.\n",
    "\n",
    "https://www.sbert.net/examples/sentence_transformer/applications/semantic-search/README.html\n",
    "\n",
    "Then we can check how close these align with their actual answers."
   ]
  },
  {
   "cell_type": "markdown",
   "id": "9376cca5",
   "metadata": {},
   "source": [
    "## 7. Evaluation\n",
    "\n",
    "https://pretrained.dev/article/How_to_evaluate_the_performance_of_pretrained_models.htm"
   ]
  }
 ],
 "metadata": {
  "kernelspec": {
   "display_name": "venv",
   "language": "python",
   "name": "python3"
  },
  "language_info": {
   "codemirror_mode": {
    "name": "ipython",
    "version": 3
   },
   "file_extension": ".py",
   "mimetype": "text/x-python",
   "name": "python",
   "nbconvert_exporter": "python",
   "pygments_lexer": "ipython3",
   "version": "3.11.3"
  }
 },
 "nbformat": 4,
 "nbformat_minor": 5
}

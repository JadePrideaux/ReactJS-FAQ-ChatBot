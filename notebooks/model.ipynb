{
 "cells": [
  {
   "cell_type": "markdown",
   "id": "e828b998",
   "metadata": {},
   "source": [
    "# FAQ ChatBot model prototype notebook"
   ]
  },
  {
   "cell_type": "markdown",
   "id": "ae5f0b99",
   "metadata": {},
   "source": [
    "## 1. Project Overview\n",
    "\n",
    "The aim of this notebook is to use asymmetric semantic search to retrieve the top 3 closest answers from the ReactJS FAQ dataset based on a user's question input. Questions and answers are mapped to the same vector space using a pre-trained SBERT model. Given a new question, the closest 3 answers are retrieved using similarity search. The dataset will be split, with 90% used as reference corpus and 10% of questions reserved to evaluate how well the system retrieves relevant answers."
   ]
  },
  {
   "cell_type": "markdown",
   "id": "cafc14eb",
   "metadata": {},
   "source": [
    "## 2. Dataset\n",
    "\n",
    "The ReactJS FAQ dataset will be used, which consists approximately 26,300 question-answer pairs in a JSON format."
   ]
  },
  {
   "cell_type": "markdown",
   "id": "11c2d0ff",
   "metadata": {},
   "source": [
    "## 3. Preprocessing"
   ]
  },
  {
   "cell_type": "markdown",
   "id": "5698667d",
   "metadata": {},
   "source": [
    "## 4. Embedding Generation"
   ]
  },
  {
   "cell_type": "markdown",
   "id": "ea549d75",
   "metadata": {},
   "source": [
    "## 5. Similarity Measure"
   ]
  },
  {
   "cell_type": "markdown",
   "id": "8697f4cf",
   "metadata": {},
   "source": [
    "## 6. Testing"
   ]
  },
  {
   "cell_type": "markdown",
   "id": "9376cca5",
   "metadata": {},
   "source": [
    "## 7. Evaluation"
   ]
  }
 ],
 "metadata": {
  "kernelspec": {
   "display_name": "base",
   "language": "python",
   "name": "python3"
  },
  "language_info": {
   "name": "python",
   "version": "3.11.5"
  }
 },
 "nbformat": 4,
 "nbformat_minor": 5
}

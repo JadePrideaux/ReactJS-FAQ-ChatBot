{
 "cells": [
  {
   "cell_type": "markdown",
   "id": "e828b998",
   "metadata": {},
   "source": [
    "# FAQ ChatBot model prototype notebook"
   ]
  },
  {
   "cell_type": "markdown",
   "id": "ae5f0b99",
   "metadata": {},
   "source": [
    "## 1. Project Overview\n",
    "\n",
    "The aim of this notebook is to use asymmetric semantic search to retrieve the top 3 closest answers from the ReactJS FAQ dataset based on a user's question input. Questions and answers are mapped to the same vector space using a pre-trained SBERT model. Given a new question, the closest 3 answers are retrieved using similarity search. The dataset will be split, with 90% used as reference corpus and 10% of questions reserved to evaluate how well the system retrieves relevant answers."
   ]
  },
  {
   "cell_type": "markdown",
   "id": "cafc14eb",
   "metadata": {},
   "source": [
    "## 2. Dataset\n",
    "\n",
    "The ReactJS FAQ dataset will be used, which consists approximately 26,300 question-answer pairs in a JSON format."
   ]
  },
  {
   "cell_type": "code",
   "execution_count": 9,
   "id": "82efb4d7",
   "metadata": {},
   "outputs": [],
   "source": [
    "import pandas as pd\n",
    "import numpy as np\n",
    "\n",
    "# Import display module from IPython to render pandas DataFrames in VS Code notebooks\n",
    "# from IPython.display import display # uncomment if needed to display multiple objects in one cell"
   ]
  },
  {
   "cell_type": "code",
   "execution_count": null,
   "id": "9c71577f",
   "metadata": {},
   "outputs": [
    {
     "name": "stdout",
     "output_type": "stream",
     "text": [
      "First 5 records:\n"
     ]
    },
    {
     "data": {
      "text/html": [
       "<div>\n",
       "<style scoped>\n",
       "    .dataframe tbody tr th:only-of-type {\n",
       "        vertical-align: middle;\n",
       "    }\n",
       "\n",
       "    .dataframe tbody tr th {\n",
       "        vertical-align: top;\n",
       "    }\n",
       "\n",
       "    .dataframe thead th {\n",
       "        text-align: right;\n",
       "    }\n",
       "</style>\n",
       "<table border=\"1\" class=\"dataframe\">\n",
       "  <thead>\n",
       "    <tr style=\"text-align: right;\">\n",
       "      <th></th>\n",
       "      <th>question</th>\n",
       "      <th>answer</th>\n",
       "      <th>detailedanswer</th>\n",
       "      <th>detailed_answer</th>\n",
       "      <th>argument</th>\n",
       "    </tr>\n",
       "  </thead>\n",
       "  <tbody>\n",
       "    <tr>\n",
       "      <th>0</th>\n",
       "      <td>What is React?</td>\n",
       "      <td>React is an open-source JavaScript library for...</td>\n",
       "      <td>NaN</td>\n",
       "      <td>NaN</td>\n",
       "      <td>NaN</td>\n",
       "    </tr>\n",
       "    <tr>\n",
       "      <th>1</th>\n",
       "      <td>What is a Date Picker in React?</td>\n",
       "      <td>A Date Picker in React is a UI component that ...</td>\n",
       "      <td>NaN</td>\n",
       "      <td>NaN</td>\n",
       "      <td>NaN</td>\n",
       "    </tr>\n",
       "    <tr>\n",
       "      <th>2</th>\n",
       "      <td>what are feature of React?</td>\n",
       "      <td>1) Component-Based Architecture, 2) Virtual DO...</td>\n",
       "      <td>NaN</td>\n",
       "      <td>NaN</td>\n",
       "      <td>NaN</td>\n",
       "    </tr>\n",
       "    <tr>\n",
       "      <th>3</th>\n",
       "      <td>Which libraries are commonly used for date pic...</td>\n",
       "      <td>Popular libraries include react-datepicker, re...</td>\n",
       "      <td>NaN</td>\n",
       "      <td>NaN</td>\n",
       "      <td>NaN</td>\n",
       "    </tr>\n",
       "    <tr>\n",
       "      <th>4</th>\n",
       "      <td>How to install react-datepicker?</td>\n",
       "      <td>Run `npm install react-datepicker` and also in...</td>\n",
       "      <td>NaN</td>\n",
       "      <td>NaN</td>\n",
       "      <td>NaN</td>\n",
       "    </tr>\n",
       "  </tbody>\n",
       "</table>\n",
       "</div>"
      ],
      "text/plain": [
       "                                            question  \\\n",
       "0                                     What is React?   \n",
       "1                    What is a Date Picker in React?   \n",
       "2                         what are feature of React?   \n",
       "3  Which libraries are commonly used for date pic...   \n",
       "4                   How to install react-datepicker?   \n",
       "\n",
       "                                              answer detailedanswer  \\\n",
       "0  React is an open-source JavaScript library for...            NaN   \n",
       "1  A Date Picker in React is a UI component that ...            NaN   \n",
       "2  1) Component-Based Architecture, 2) Virtual DO...            NaN   \n",
       "3  Popular libraries include react-datepicker, re...            NaN   \n",
       "4  Run `npm install react-datepicker` and also in...            NaN   \n",
       "\n",
       "  detailed_answer argument  \n",
       "0             NaN      NaN  \n",
       "1             NaN      NaN  \n",
       "2             NaN      NaN  \n",
       "3             NaN      NaN  \n",
       "4             NaN      NaN  "
      ]
     },
     "execution_count": 10,
     "metadata": {},
     "output_type": "execute_result"
    }
   ],
   "source": [
    "# Load dataset from kaggle\n",
    "\n",
    "import kagglehub\n",
    "from kagglehub import KaggleDatasetAdapter\n",
    "\n",
    "# JSON file inside the ReactJS FAQ dataset folder\n",
    "file_path = \"React_dataset.json\"\n",
    "\n",
    "# Load the latest version\n",
    "df = kagglehub.dataset_load(\n",
    "  KaggleDatasetAdapter.PANDAS,\n",
    "  \"savanidhruv/reactjs-faq-dataset\",\n",
    "  file_path,\n",
    ")\n",
    "\n",
    "print(\"First 5 records:\")\n",
    "df.head()"
   ]
  },
  {
   "cell_type": "markdown",
   "id": "11c2d0ff",
   "metadata": {},
   "source": [
    "## 3. Preprocessing\n",
    "\n"
   ]
  },
  {
   "cell_type": "markdown",
   "id": "5698667d",
   "metadata": {},
   "source": [
    "## 4. Embedding Generation"
   ]
  },
  {
   "cell_type": "markdown",
   "id": "ea549d75",
   "metadata": {},
   "source": [
    "## 5. Similarity Measure"
   ]
  },
  {
   "cell_type": "markdown",
   "id": "8697f4cf",
   "metadata": {},
   "source": [
    "## 6. Testing"
   ]
  },
  {
   "cell_type": "markdown",
   "id": "9376cca5",
   "metadata": {},
   "source": [
    "## 7. Evaluation"
   ]
  }
 ],
 "metadata": {
  "kernelspec": {
   "display_name": "venv",
   "language": "python",
   "name": "python3"
  },
  "language_info": {
   "codemirror_mode": {
    "name": "ipython",
    "version": 3
   },
   "file_extension": ".py",
   "mimetype": "text/x-python",
   "name": "python",
   "nbconvert_exporter": "python",
   "pygments_lexer": "ipython3",
   "version": "3.11.3"
  }
 },
 "nbformat": 4,
 "nbformat_minor": 5
}
